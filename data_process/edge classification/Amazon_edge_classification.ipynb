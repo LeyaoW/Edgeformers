{
 "cells": [
  {
   "cell_type": "code",
   "execution_count": 1,
   "id": "f795fb2e",
   "metadata": {},
   "outputs": [],
   "source": [
    "import os\n",
    "import random\n",
    "import json\n",
    "import pickle\n",
    "from copy import deepcopy\n",
    "from tqdm import tqdm\n",
    "from collections import defaultdict\n",
    "\n",
    "import numpy as np\n",
    "from transformers import BertTokenizerFast"
   ]
  },
  {
   "cell_type": "code",
   "execution_count": 2,
   "id": "667e1f27",
   "metadata": {},
   "outputs": [],
   "source": [
    "random.seed(0)"
   ]
  },
  {
   "cell_type": "code",
   "execution_count": 3,
   "id": "ccf349bd",
   "metadata": {},
   "outputs": [],
   "source": [
    "dataset = 'movie'  # Electronics, movie, CDs, Apps\n",
    "data_name = 'reviews_Movies_and_TV_5' # reviews_Electronics_5, reviews_CDs_and_Vinyl_5, reviews_Apps_for_Android_5\n",
    "output_dir='xxx'"
   ]
  },
  {
   "cell_type": "markdown",
   "id": "3baddf92",
   "metadata": {},
   "source": [
    "# Generate Training Data (Edge Classification)"
   ]
  },
  {
   "cell_type": "code",
   "execution_count": 4,
   "id": "8ba7e9e5",
   "metadata": {},
   "outputs": [
    {
     "name": "stderr",
     "output_type": "stream",
     "text": [
      "100%|████████████████████████████████████████████████████████████████████████| 1697533/1697533 [00:28<00:00, 60303.87it/s]\n"
     ]
    }
   ],
   "source": [
    "# read raw data\n",
    "with open(f'{dataset}/{data_name}.json') as f:\n",
    "    data = []\n",
    "    readin = f.readlines()\n",
    "    for line in tqdm(readin):\n",
    "        data.append(json.loads(line))\n",
    "random.shuffle(data)"
   ]
  },
  {
   "cell_type": "code",
   "execution_count": 5,
   "id": "6a6ff75f",
   "metadata": {
    "scrolled": true
   },
   "outputs": [
    {
     "data": {
      "text/plain": [
       "1697533"
      ]
     },
     "execution_count": 5,
     "metadata": {},
     "output_type": "execute_result"
    }
   ],
   "source": [
    "len(data)"
   ]
  },
  {
   "cell_type": "code",
   "execution_count": 6,
   "id": "931180b5",
   "metadata": {
    "scrolled": true
   },
   "outputs": [
    {
     "data": {
      "text/plain": [
       "{'reviewerID': 'A1SHNOU2ODKIDG',\n",
       " 'asin': 'B004MOLFR2',\n",
       " 'reviewerName': 'Gregorio',\n",
       " 'helpful': [0, 2],\n",
       " 'reviewText': 'The Asylum has been producing low budget films for years and while their technical quality has now reached YouTube level, the films are getting worse.  ALMIGHTY THOR is no MEGASHARK or even INTERMEDIO or JOLLY ROGER.  What is especially infuriating about this one is that the film could have been better with just a few obvious fixes.  Yes, the script is incomprehensible and entirely awful and has a dazed Richard Grieco muttering lines like: \"you don\\'t understand the power of the bone.\"  Even so, there are mistakes in this awful film that are entirely without excuse.  The Asylum has gotten to the point where they are occasionally able to produce visual effects of a barely acceptable quality (a huge leap forward for them), yet they continue to insert effects shots that look to be less than half finished.  Standard photography is also frequently out of focus.  Okay . . . it\\'s a low budget film so I can live with that.  There is NO excuse for the \"costumes\" in this film which are worse than anything you might stumble across at an after Halloween clearance sale at WalMart.  What is Richard Greico (as Loki) supposed to be wearing?  Is he perhaps a bondage enthusiast?  What about poor Kevin Nash (as Odin) stumbling about in a plastic Roman Centurian breastplate and bear skin rug?  What are we to make of Patricia Velasquez (as Joxanna) who is at one point sporting what appears to be genuine shag carpeting?  And how about the sad case of Cody Deal (as Thor) who actually has a body that could do justice to his character.  We get a couple of glimpses of his very Thorlike physique and the rest of the time he is covered in plastic armour, blankets and a trech coat that looks like it came from a dumpster in the ally that the film\\'s characters are eternally meandering about in.  If you have an actor with a body like Cody Deal playing a super hero like Thor then why on earth do you cover him in this odd assortment of GoodWill rejects?How about those hammers?  This film has two of them.  The Hammer of Destiny is constructed of a piece of PVC and some spray painted styrofoam.  The Thor Forged Hammer is a broom handle with a cardboard box covered in aluminium foil.  If Asylum can find the budget to make CGI dinosaurs (and why are all of these peculiar lizards being summoned from the ground in this THOR movie?) why can\\'t they get a decent looking hammer?The acting is bad but that may simply be because the actors had no time to learn their lines or work on their roles.  Kevin Nash seems like he might have been an interesting Odin (if his voice had been dubbed) but he gets nothing coherent to say in this script (no one does) and no direction from Christopher Douglis-Olin Ray.  Richard Grieco seems embarrased (and if you are doing an Asylum film then yes, your career is over unless you can get on DANCING WITH THE STARS).  Patricia Valesquez is unintelligible with an accent so thick it is undecipherable and her haggard appearance makes her a very unlikely love interest for the God of Thunder.  Cody Deal has the right look to play Thor (but a curiously modern short hair cut destroys the illusion) but his inexperience shows everytime he opens his mouth. Still he isn\\'t entirely awful and he has an innocent quality that could have brought a unique twist to Thor.  If he had a decent director or dialogue coach he might have fared better.  It\\'s unfortunate.  This entire film is unfortunate.  Asylum has been around long enough that they should be doing far, far better than this.  They HAVE done far, far better than this one.  ALMIGHTY THOR never reaches the point of being so bad it\\'s good.  There are even some shots in this film (check out the heart of the world tree segment) that are striking and visually well composed.  That isn\\'t to the films credit though. It merely demonstrates that there are people working at The Asylum that have some genuine talent but are just too lazy and uninspired to give a damn. They really can\\'t use inexperience, lack of time and budget as an excuse any longer. Their bad movies are no longer funny or entertaining.  They are just bad.',\n",
       " 'overall': 1.0,\n",
       " 'summary': \"The Asylum's joke isn't funny anymore\",\n",
       " 'unixReviewTime': 1305763200,\n",
       " 'reviewTime': '05 19, 2011'}"
      ]
     },
     "execution_count": 6,
     "metadata": {},
     "output_type": "execute_result"
    }
   ],
   "source": [
    "data[7]"
   ]
  },
  {
   "cell_type": "code",
   "execution_count": 7,
   "id": "49f8fd90",
   "metadata": {},
   "outputs": [],
   "source": [
    "# text processing function\n",
    "def text_process(text):\n",
    "    p_text = ' '.join(text.split('\\r\\n'))\n",
    "    p_text = ' '.join(text.split('\\n\\r'))\n",
    "    p_text = ' '.join(text.split('\\n'))\n",
    "    p_text = ' '.join(p_text.split('\\t'))\n",
    "    p_text = ' '.join(p_text.split('\\rm'))\n",
    "    p_text = ' '.join(p_text.split('\\r'))\n",
    "    p_text = ''.join(p_text.split('$'))\n",
    "    p_text = ''.join(p_text.split('*'))\n",
    "\n",
    "    return p_text"
   ]
  },
  {
   "cell_type": "code",
   "execution_count": 8,
   "id": "139bfffc",
   "metadata": {},
   "outputs": [
    {
     "name": "stderr",
     "output_type": "stream",
     "text": [
      "100%|███████████████████████████████████████████████████████████████████████| 1697533/1697533 [00:03<00:00, 549152.44it/s]"
     ]
    },
    {
     "name": "stdout",
     "output_type": "stream",
     "text": [
      "defaultdict(<class 'int'>, {4.0: 382994, 5.0: 906608, 3.0: 201302, 1.0: 104219, 2.0: 102410})\n"
     ]
    },
    {
     "name": "stderr",
     "output_type": "stream",
     "text": [
      "\n"
     ]
    }
   ],
   "source": [
    "## rate distribution\n",
    "\n",
    "rate_dict = defaultdict(int)\n",
    "user_id2idx = {}\n",
    "item_id2idx = {}\n",
    "\n",
    "for d in tqdm(data):\n",
    "    rate_dict[d['overall']] += 1\n",
    "    if d['reviewerID'] not in user_id2idx:\n",
    "        user_id2idx[d['reviewerID']] = len(user_id2idx)\n",
    "    if d['asin'] not in item_id2idx:\n",
    "        item_id2idx[d['asin']] = len(item_id2idx)\n",
    "\n",
    "print(rate_dict)"
   ]
  },
  {
   "cell_type": "code",
   "execution_count": 10,
   "id": "5c0eff9e",
   "metadata": {},
   "outputs": [
    {
     "name": "stderr",
     "output_type": "stream",
     "text": [
      "100%|██████████| 1697533/1697533 [00:11<00:00, 144173.16it/s]\n"
     ]
    }
   ],
   "source": [
    "## generate data samples\n",
    "\n",
    "samples = []\n",
    "\n",
    "for d in tqdm(data):\n",
    "    samples.append((text_process(d['reviewText']), user_id2idx[d['reviewerID']], item_id2idx[d['asin']], d['overall']-1))"
   ]
  },
  {
   "cell_type": "code",
   "execution_count": 11,
   "id": "691d2a4d",
   "metadata": {
    "scrolled": true
   },
   "outputs": [
    {
     "name": "stdout",
     "output_type": "stream",
     "text": [
      "1188273 169753 339507\n"
     ]
    }
   ],
   "source": [
    "## split train/val/test as 7:1:2 or 8:1:1\n",
    "### user_pos_reviews/user_neg_reviews: key<-userID, value<-list(reviews)\n",
    "### item_pos_reviews/item_neg_reviews: key<-productID, value<-list(reviews)\n",
    "### train_user_neighbor: key<-userID, value<-list(tuple(reviews,p/n))\n",
    "### train_item_neighbor: key<-userID, value<-list(tuple(reviews,p/n))\n",
    "\n",
    "sample_num = len(samples)\n",
    "random.seed(0)\n",
    "\n",
    "train_bound = int(sample_num * 0.7)\n",
    "val_bound = int(sample_num * 0.8)\n",
    "print(train_bound, val_bound - train_bound, sample_num - val_bound)\n",
    "\n",
    "random.shuffle(samples)"
   ]
  },
  {
   "cell_type": "code",
   "execution_count": 12,
   "id": "b6e668bf",
   "metadata": {},
   "outputs": [
    {
     "name": "stderr",
     "output_type": "stream",
     "text": [
      "100%|██████████| 1188273/1188273 [00:23<00:00, 50297.30it/s] \n"
     ]
    }
   ],
   "source": [
    "# generate and save train file\n",
    "\n",
    "with open(f'{output_dir}/{dataset}/train.tsv','w') as fout:\n",
    "    for s in tqdm(samples[:train_bound]):\n",
    "        fout.write(s[0]+'\\$\\$'+str(s[1])+'\\$\\$'+str(s[2])+'\\$\\$'+str(int(s[3]))+'\\n')"
   ]
  },
  {
   "cell_type": "code",
   "execution_count": 13,
   "id": "a1af48f3",
   "metadata": {},
   "outputs": [
    {
     "name": "stderr",
     "output_type": "stream",
     "text": [
      "100%|██████████| 169753/169753 [00:08<00:00, 19092.58it/s]\n"
     ]
    }
   ],
   "source": [
    "# generate and save val file\n",
    "\n",
    "with open(f'{output_dir}/{dataset}/val.tsv','w') as fout:\n",
    "    for s in tqdm(samples[train_bound:val_bound]):\n",
    "        fout.write(s[0]+'\\$\\$'+str(s[1])+'\\$\\$'+str(s[2])+'\\$\\$'+str(int(s[3]))+'\\n')"
   ]
  },
  {
   "cell_type": "code",
   "execution_count": 14,
   "id": "b14bc30d",
   "metadata": {},
   "outputs": [
    {
     "name": "stderr",
     "output_type": "stream",
     "text": [
      "100%|██████████| 339507/339507 [00:05<00:00, 64473.92it/s] \n"
     ]
    }
   ],
   "source": [
    "# generate and save test file\n",
    "\n",
    "with open(f'{output_dir}/{dataset}/test.tsv','w') as fout:\n",
    "    for s in tqdm(samples[val_bound:]):\n",
    "        fout.write(s[0]+'\\$\\$'+str(s[1])+'\\$\\$'+str(s[2])+'\\$\\$'+str(int(s[3]))+'\\n')"
   ]
  },
  {
   "cell_type": "code",
   "execution_count": 15,
   "id": "22662de4",
   "metadata": {},
   "outputs": [],
   "source": [
    "# save side files\n",
    "\n",
    "pickle.dump(user_id2idx,open(f'{output_dir}/{dataset}/user_id2idx.pkl','wb'))\n",
    "pickle.dump(item_id2idx,open(f'{output_dir}/{dataset}/item_id2idx.pkl','wb'))\n",
    "pickle.dump([len(user_id2idx),len(item_id2idx),5],open(f'{output_dir}/{dataset}/node_num.pkl','wb'))"
   ]
  },
  {
   "cell_type": "code",
   "execution_count": null,
   "id": "34c3f96f",
   "metadata": {},
   "outputs": [],
   "source": []
  },
  {
   "cell_type": "code",
   "execution_count": null,
   "id": "794e4775",
   "metadata": {},
   "outputs": [],
   "source": []
  },
  {
   "cell_type": "code",
   "execution_count": null,
   "id": "6b118f4d",
   "metadata": {},
   "outputs": [],
   "source": []
  }
 ],
 "metadata": {
  "kernelspec": {
   "display_name": "Python 3 (ipykernel)",
   "language": "python",
   "name": "python3"
  },
  "language_info": {
   "codemirror_mode": {
    "name": "ipython",
    "version": 3
   },
   "file_extension": ".py",
   "mimetype": "text/x-python",
   "name": "python",
   "nbconvert_exporter": "python",
   "pygments_lexer": "ipython3",
   "version": "3.8.12"
  }
 },
 "nbformat": 4,
 "nbformat_minor": 5
}
