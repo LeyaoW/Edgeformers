{
 "cells": [
  {
   "cell_type": "code",
   "execution_count": 1,
   "id": "f795fb2e",
   "metadata": {},
   "outputs": [],
   "source": [
    "import os\n",
    "import random\n",
    "import json\n",
    "import pickle\n",
    "from copy import deepcopy\n",
    "from tqdm import tqdm\n",
    "from collections import defaultdict\n",
    "\n",
    "import numpy as np\n",
    "from transformers import BertTokenizerFast"
   ]
  },
  {
   "cell_type": "code",
   "execution_count": 2,
   "id": "667e1f27",
   "metadata": {},
   "outputs": [],
   "source": [
    "random.seed(0)"
   ]
  },
  {
   "cell_type": "code",
   "execution_count": 30,
   "id": "ccf349bd",
   "metadata": {},
   "outputs": [],
   "source": [
    "dataset = 'crime_book'  # crime_book, children\n",
    "data_name = 'goodreads_reviews_mystery_thriller_crime' # goodreads_reviews_mystery_thriller_crime, goodreads_reviews_children\n",
    "output_dir='xxx'"
   ]
  },
  {
   "cell_type": "markdown",
   "id": "3baddf92",
   "metadata": {},
   "source": [
    "# Generate Training Data (Edge Classification)"
   ]
  },
  {
   "cell_type": "code",
   "execution_count": 31,
   "id": "8ba7e9e5",
   "metadata": {},
   "outputs": [
    {
     "name": "stderr",
     "output_type": "stream",
     "text": [
      "100%|██████████| 1849236/1849236 [00:12<00:00, 144038.79it/s]\n"
     ]
    }
   ],
   "source": [
    "# read raw data\n",
    "with open(f'{dataset}/{data_name}.json') as f:\n",
    "    data = []\n",
    "    readin = f.readlines()\n",
    "    for line in tqdm(readin):\n",
    "        data.append(json.loads(line))\n",
    "random.shuffle(data)"
   ]
  },
  {
   "cell_type": "code",
   "execution_count": 32,
   "id": "6a6ff75f",
   "metadata": {
    "scrolled": false
   },
   "outputs": [
    {
     "data": {
      "text/plain": [
       "1849236"
      ]
     },
     "execution_count": 32,
     "metadata": {},
     "output_type": "execute_result"
    }
   ],
   "source": [
    "len(data)"
   ]
  },
  {
   "cell_type": "code",
   "execution_count": 18,
   "id": "931180b5",
   "metadata": {
    "scrolled": false
   },
   "outputs": [
    {
     "data": {
      "text/plain": [
       "{'user_id': 'a2d6dd1685e5aa0a72c9410f8f55e056',\n",
       " 'book_id': '7327423',\n",
       " 'review_id': '15708dad2f2dfb42043d5c87c58df57f',\n",
       " 'rating': 0,\n",
       " 'review_text': 'O',\n",
       " 'date_added': 'Thu Sep 22 18:58:39 -0700 2016',\n",
       " 'date_updated': 'Fri Jan 27 13:49:40 -0800 2017',\n",
       " 'read_at': '',\n",
       " 'started_at': '',\n",
       " 'n_votes': 0,\n",
       " 'n_comments': 0}"
      ]
     },
     "execution_count": 18,
     "metadata": {},
     "output_type": "execute_result"
    }
   ],
   "source": [
    "data[7]"
   ]
  },
  {
   "cell_type": "code",
   "execution_count": 19,
   "id": "49f8fd90",
   "metadata": {},
   "outputs": [],
   "source": [
    "# text processing function\n",
    "def text_process(text):\n",
    "    p_text = ' '.join(text.split('\\r\\n'))\n",
    "    p_text = ' '.join(text.split('\\n\\r'))\n",
    "    p_text = ' '.join(text.split('\\n'))\n",
    "    p_text = ' '.join(p_text.split('\\t'))\n",
    "    p_text = ' '.join(p_text.split('\\rm'))\n",
    "    p_text = ' '.join(p_text.split('\\r'))\n",
    "    p_text = ''.join(p_text.split('$'))\n",
    "    p_text = ''.join(p_text.split('*'))\n",
    "\n",
    "    return p_text"
   ]
  },
  {
   "cell_type": "code",
   "execution_count": 20,
   "id": "139bfffc",
   "metadata": {},
   "outputs": [
    {
     "name": "stderr",
     "output_type": "stream",
     "text": [
      "100%|██████████| 734640/734640 [00:01<00:00, 503020.85it/s]"
     ]
    },
    {
     "name": "stdout",
     "output_type": "stream",
     "text": [
      "defaultdict(<class 'int'>, {3: 148210, 4: 253185, 5: 251400, 0: 31113, 2: 40006, 1: 10726})\n"
     ]
    },
    {
     "name": "stderr",
     "output_type": "stream",
     "text": [
      "\n"
     ]
    }
   ],
   "source": [
    "## rate distribution\n",
    "\n",
    "rate_dict = defaultdict(int)\n",
    "user_id2idx = {}\n",
    "item_id2idx = {}\n",
    "\n",
    "for d in tqdm(data):\n",
    "    rate_dict[d['rating']] += 1\n",
    "    if d['user_id'] not in user_id2idx:\n",
    "        user_id2idx[d['user_id']] = len(user_id2idx)\n",
    "    if d['book_id'] not in item_id2idx:\n",
    "        item_id2idx[d['book_id']] = len(item_id2idx)\n",
    "\n",
    "print(rate_dict)"
   ]
  },
  {
   "cell_type": "code",
   "execution_count": 21,
   "id": "5c0eff9e",
   "metadata": {},
   "outputs": [
    {
     "name": "stderr",
     "output_type": "stream",
     "text": [
      "100%|██████████| 734640/734640 [00:04<00:00, 175659.83it/s]\n"
     ]
    }
   ],
   "source": [
    "## generate data samples\n",
    "\n",
    "samples = []\n",
    "\n",
    "for d in tqdm(data):\n",
    "    samples.append((text_process(d['review_text']), user_id2idx[d['user_id']], item_id2idx[d['book_id']], d['rating']))"
   ]
  },
  {
   "cell_type": "code",
   "execution_count": 22,
   "id": "691d2a4d",
   "metadata": {
    "scrolled": true
   },
   "outputs": [
    {
     "name": "stdout",
     "output_type": "stream",
     "text": [
      "514247 73465 146928\n"
     ]
    }
   ],
   "source": [
    "## split train/val/test as 7:1:2 or 8:1:1\n",
    "### user_pos_reviews/user_neg_reviews: key<-userID, value<-list(reviews)\n",
    "### item_pos_reviews/item_neg_reviews: key<-productID, value<-list(reviews)\n",
    "### train_user_neighbor: key<-userID, value<-list(tuple(reviews,p/n))\n",
    "### train_item_neighbor: key<-userID, value<-list(tuple(reviews,p/n))\n",
    "\n",
    "sample_num = len(samples)\n",
    "random.seed(0)\n",
    "\n",
    "train_bound = int(sample_num * 0.7)\n",
    "val_bound = int(sample_num * 0.8)\n",
    "print(train_bound, val_bound - train_bound, sample_num - val_bound)\n",
    "\n",
    "random.shuffle(samples)"
   ]
  },
  {
   "cell_type": "code",
   "execution_count": 23,
   "id": "b6e668bf",
   "metadata": {},
   "outputs": [
    {
     "name": "stderr",
     "output_type": "stream",
     "text": [
      "100%|██████████| 514247/514247 [00:01<00:00, 367931.56it/s]\n"
     ]
    }
   ],
   "source": [
    "# generate and save train file\n",
    "\n",
    "with open(f'{output_dir}/{dataset}/train.tsv','w') as fout:\n",
    "    for s in tqdm(samples[:train_bound]):\n",
    "        fout.write(s[0]+'\\$\\$'+str(s[1])+'\\$\\$'+str(s[2])+'\\$\\$'+str(int(s[3]))+'\\n')"
   ]
  },
  {
   "cell_type": "code",
   "execution_count": 24,
   "id": "a1af48f3",
   "metadata": {},
   "outputs": [
    {
     "name": "stderr",
     "output_type": "stream",
     "text": [
      "100%|██████████| 73465/73465 [00:00<00:00, 353659.34it/s]\n"
     ]
    }
   ],
   "source": [
    "# generate and save val file\n",
    "\n",
    "with open(f'{output_dir}/{dataset}/val.tsv','w') as fout:\n",
    "    for s in tqdm(samples[train_bound:val_bound]):\n",
    "        fout.write(s[0]+'\\$\\$'+str(s[1])+'\\$\\$'+str(s[2])+'\\$\\$'+str(int(s[3]))+'\\n')"
   ]
  },
  {
   "cell_type": "code",
   "execution_count": 25,
   "id": "b14bc30d",
   "metadata": {},
   "outputs": [
    {
     "name": "stderr",
     "output_type": "stream",
     "text": [
      "100%|██████████| 146928/146928 [00:00<00:00, 359500.66it/s]\n"
     ]
    }
   ],
   "source": [
    "# generate and save test file\n",
    "\n",
    "with open(f'{output_dir}/{dataset}/test.tsv','w') as fout:\n",
    "    for s in tqdm(samples[val_bound:]):\n",
    "        fout.write(s[0]+'\\$\\$'+str(s[1])+'\\$\\$'+str(s[2])+'\\$\\$'+str(int(s[3]))+'\\n')"
   ]
  },
  {
   "cell_type": "code",
   "execution_count": 26,
   "id": "22662de4",
   "metadata": {},
   "outputs": [],
   "source": [
    "# save side files\n",
    "\n",
    "pickle.dump(user_id2idx,open(f'{output_dir}/{dataset}/user_id2idx.pkl','wb'))\n",
    "pickle.dump(item_id2idx,open(f'{output_dir}/{dataset}/item_id2idx.pkl','wb'))\n",
    "pickle.dump([len(user_id2idx),len(item_id2idx),6],open(f'{output_dir}/{dataset}/node_num.pkl','wb'))"
   ]
  },
  {
   "cell_type": "code",
   "execution_count": null,
   "id": "34c3f96f",
   "metadata": {},
   "outputs": [],
   "source": []
  },
  {
   "cell_type": "code",
   "execution_count": null,
   "id": "6b118f4d",
   "metadata": {},
   "outputs": [],
   "source": []
  }
 ],
 "metadata": {
  "kernelspec": {
   "display_name": "Python 3 (ipykernel)",
   "language": "python",
   "name": "python3"
  },
  "language_info": {
   "codemirror_mode": {
    "name": "ipython",
    "version": 3
   },
   "file_extension": ".py",
   "mimetype": "text/x-python",
   "name": "python",
   "nbconvert_exporter": "python",
   "pygments_lexer": "ipython3",
   "version": "3.8.12"
  }
 },
 "nbformat": 4,
 "nbformat_minor": 5
}
