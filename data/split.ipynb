{
 "cells": [
  {
   "cell_type": "code",
   "execution_count": 2,
   "metadata": {},
   "outputs": [],
   "source": [
    "import json\n",
    "import random\n",
    "import os\n",
    "\n",
    "def load_data(filename):\n",
    "    data = []\n",
    "    # with open(filename, 'r', encoding='utf-8') as f:\n",
    "    with open(filename, 'r', encoding='utf-8') as f:\n",
    "        for line in f:\n",
    "            data.append(json.loads(line.strip()))\n",
    "    return data\n",
    "\n",
    "def save_data(data, filename):\n",
    "    # with open(filename, 'w', encoding='utf-8') as f:\n",
    "    with open(filename, 'w', encoding='utf-8') as f:\n",
    "        for entry in data:\n",
    "            f.write(json.dumps(entry, ensure_ascii=False) + '\\n')\n"
   ]
  },
  {
   "cell_type": "code",
   "execution_count": 3,
   "metadata": {},
   "outputs": [],
   "source": [
    "def split_data(data, random_seed):\n",
    "    random.seed(random_seed)\n",
    "    random.shuffle(data)\n",
    "\n",
    "    total = len(data)\n",
    "    train_end = int(total * 0.7)\n",
    "    test_end = train_end + int(total * 0.2)\n",
    "\n",
    "    train_data = data[:train_end]\n",
    "    test_data = data[train_end:test_end]\n",
    "    val_data = data[test_end:]\n",
    "\n",
    "    return train_data, test_data, val_data"
   ]
  },
  {
   "cell_type": "code",
   "execution_count": 7,
   "metadata": {},
   "outputs": [],
   "source": [
    "dataset=\"Magazine\"\n",
    "filename = f\"Magazine_5.json\"\n",
    "random_seed = 0\n",
    "\n",
    "base, ext = os.path.splitext(filename)\n",
    "\n",
    "data = load_data(f\"{dataset}/{base}{ext}\")\n",
    "train_data, test_data, val_data = split_data(data, random_seed)\n",
    "\n",
    "\n",
    "\n",
    "save_data(train_data, f\"{dataset}/{base}_train{ext}\")\n",
    "save_data(test_data, f\"{dataset}/{base}_test{ext}\")\n",
    "save_data(val_data, f\"{dataset}/{base}_val{ext}\")"
   ]
  },
  {
   "cell_type": "code",
   "execution_count": 8,
   "metadata": {},
   "outputs": [],
   "source": [
    "def process_data(data, drop_out, random_seed):\n",
    "    total = len(data)\n",
    "    indices = list(range(total))\n",
    "\n",
    "    # Shuffle indices with the set seed\n",
    "    random.seed(random_seed)\n",
    "    random.shuffle(indices)\n",
    "\n",
    "    # Select the top n percentage of shuffled indices\n",
    "    drop_count = int(total * drop_out)\n",
    "    selected_indices = indices[:drop_count]\n",
    "   \n",
    "    # Remove the content for the selected indices\n",
    "    for i in selected_indices:\n",
    "        if 'reviewText' in data[i]:\n",
    "            data[i]['reviewText'] = \"\"  # 将reviewText字段置为空字符串\n",
    "\n",
    "    return data, selected_indices"
   ]
  },
  {
   "cell_type": "code",
   "execution_count": 10,
   "metadata": {},
   "outputs": [],
   "source": [
    "review_rate=0.7\n",
    "\n",
    "drop_out=1-review_rate\n",
    "processed_train_data, selected_indices = process_data(train_data, drop_out, random_seed)\n",
    "\n",
    "# Save the processed train data and indices\n",
    "save_data(processed_train_data, f\"{dataset}/{base}_train_rr_{review_rate}.json\")"
   ]
  }
 ],
 "metadata": {
  "kernelspec": {
   "display_name": "base",
   "language": "python",
   "name": "python3"
  },
  "language_info": {
   "codemirror_mode": {
    "name": "ipython",
    "version": 3
   },
   "file_extension": ".py",
   "mimetype": "text/x-python",
   "name": "python",
   "nbconvert_exporter": "python",
   "pygments_lexer": "ipython3",
   "version": "3.11.7"
  }
 },
 "nbformat": 4,
 "nbformat_minor": 2
}
